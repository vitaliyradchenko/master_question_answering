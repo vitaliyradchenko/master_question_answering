{
 "cells": [
  {
   "cell_type": "markdown",
   "metadata": {},
   "source": [
    "## Loading data"
   ]
  },
  {
   "cell_type": "code",
   "execution_count": 1,
   "metadata": {
    "collapsed": true
   },
   "outputs": [],
   "source": [
    "import json\n",
    "import numpy as np\n",
    "\n",
    "with open('../data/squad/train-v1.1.json') as json_data:\n",
    "    d = json.load(json_data)"
   ]
  },
  {
   "cell_type": "markdown",
   "metadata": {},
   "source": [
    "## Number of questions"
   ]
  },
  {
   "cell_type": "code",
   "execution_count": 2,
   "metadata": {},
   "outputs": [
    {
     "name": "stdout",
     "output_type": "stream",
     "text": [
      "Number of questions: 87599\n"
     ]
    }
   ],
   "source": [
    "n = 0\n",
    "for article in d['data']:\n",
    "    for paragraph in article['paragraphs']:\n",
    "        n += len(paragraph['qas'])\n",
    "print(\"Number of questions:\", n)"
   ]
  },
  {
   "cell_type": "markdown",
   "metadata": {},
   "source": [
    "## Number of articles and their parts"
   ]
  },
  {
   "cell_type": "code",
   "execution_count": 3,
   "metadata": {},
   "outputs": [
    {
     "name": "stdout",
     "output_type": "stream",
     "text": [
      "Number of articles: 442\n",
      "Number of articles parts: 42\n"
     ]
    }
   ],
   "source": [
    "print(\"Number of articles:\", len(d['data']))\n",
    "\n",
    "parts = []\n",
    "for article in d['data']:\n",
    "    parts.append(len(article['paragraphs']))\n",
    "print(\"Number of articles parts:\", int(np.mean(parts)))"
   ]
  },
  {
   "cell_type": "markdown",
   "metadata": {},
   "source": [
    "## Context length distribution and number of questions distribution"
   ]
  },
  {
   "cell_type": "code",
   "execution_count": 4,
   "metadata": {},
   "outputs": [
    {
     "name": "stdout",
     "output_type": "stream",
     "text": [
      "Context length distribution\n",
      "Percentile 0 : 151\n",
      "Percentile 20 : 525\n",
      "Percentile 40 : 621\n",
      "Percentile 60 : 744\n",
      "Percentile 80 : 941\n",
      "Percentile 100 : 3706\n",
      "===================================\n",
      "Number of questions\n",
      "Percentile 0 : 1\n",
      "Percentile 20 : 4\n",
      "Percentile 40 : 4\n",
      "Percentile 60 : 5\n",
      "Percentile 80 : 5\n",
      "Percentile 100 : 25\n"
     ]
    }
   ],
   "source": [
    "context_length = []\n",
    "for article in d['data']:\n",
    "    for paragraph in article['paragraphs']:\n",
    "        context_length.append(len(paragraph['context']))\n",
    "    \n",
    "questions = []\n",
    "for article in d['data']:\n",
    "    for paragraph in article['paragraphs']:\n",
    "        questions.append(len(paragraph['qas']))\n",
    "\n",
    "percentiles = [0, 20, 40, 60, 80, 100]\n",
    "print(\"Context length distribution\")\n",
    "for percentile in percentiles:\n",
    "    print(\"Percentile\", percentile, \":\", int(np.percentile(context_length, percentile)))\n",
    "    \n",
    "print(\"===================================\")\n",
    "    \n",
    "percentiles = [0, 20, 40, 60, 80, 100]\n",
    "print(\"Number of questions\")\n",
    "for percentile in percentiles:\n",
    "    print(\"Percentile\", percentile, \":\", int(np.percentile(questions, percentile)))"
   ]
  },
  {
   "cell_type": "markdown",
   "metadata": {},
   "source": [
    "## First words in questions"
   ]
  },
  {
   "cell_type": "code",
   "execution_count": 5,
   "metadata": {},
   "outputs": [],
   "source": [
    "first_words = []\n",
    "for article in d['data']:\n",
    "    for paragraph in article['paragraphs']:\n",
    "        for item in paragraph[\"qas\"]:\n",
    "            first_words.append(item['question'].split()[0])"
   ]
  },
  {
   "cell_type": "code",
   "execution_count": 6,
   "metadata": {},
   "outputs": [],
   "source": [
    "from collections import Counter\n",
    "from matplotlib import pyplot as plt\n",
    "import seaborn as sns\n",
    "%matplotlib inline"
   ]
  },
  {
   "cell_type": "code",
   "execution_count": 7,
   "metadata": {},
   "outputs": [
    {
     "data": {
      "image/png": "[encoded data removed]",
      "text/plain": [
       "<matplotlib.figure.Figure at 0x11f6b6518>"
      ]
     },
     "metadata": {},
     "output_type": "display_data"
    }
   ],
   "source": [
    "n = 10\n",
    "first_words_dict = Counter(first_words)\n",
    "plt.bar(range(n), [j for i,j in first_words_dict.most_common(n)], align='center')\n",
    "plt.xticks(range(n), [i for i,j in first_words_dict.most_common(n)])\n",
    "\n",
    "plt.show()"
   ]
  },
  {
   "cell_type": "code",
   "execution_count": 8,
   "metadata": {},
   "outputs": [
    {
     "data": {
      "image/png": "[encoded data removed]",
      "text/plain": [
       "<matplotlib.figure.Figure at 0x11b1bb710>"
      ]
     },
     "metadata": {},
     "output_type": "display_data"
    }
   ],
   "source": [
    "question_words = [\"where\", \"who\", \"when\", \"what\", \"why\", \"whose\", \"which\", \"how\"]\n",
    "first_words = []\n",
    "for article in d['data']:\n",
    "    for paragraph in article['paragraphs']:\n",
    "        for item in paragraph['qas']:\n",
    "            for i in range(3):\n",
    "                try:\n",
    "                    first_words.append(item['question'].lower().split()[i])\n",
    "                except:\n",
    "                    pass\n",
    "                \n",
    "first_words_dict = Counter(first_words)\n",
    "new_dict = {}\n",
    "for question in question_words:\n",
    "    new_dict[question] = first_words_dict[question]\n",
    "    \n",
    "import operator\n",
    "new_dict = sorted(new_dict.items(), key=operator.itemgetter(1), reverse=True)\n",
    "\n",
    "plt.bar(range(len(question_words)), [j for i, j in new_dict], align='center')\n",
    "plt.xticks(range(len(question_words)), [i for i, j in new_dict])\n",
    "\n",
    "plt.show()"
   ]
  },
  {
   "cell_type": "markdown",
   "metadata": {},
   "source": [
    "## Answers"
   ]
  },
  {
   "cell_type": "code",
   "execution_count": 9,
   "metadata": {},
   "outputs": [
    {
     "data": {
      "text/plain": [
       "{'answers': [{'answer_start': 105, 'text': 'Nepal'}],\n",
       " 'id': '57359bbcdc94161900571ee9',\n",
       " 'question': 'What country is Kathmandu the capital of?'}"
      ]
     },
     "execution_count": 9,
     "metadata": {},
     "output_type": "execute_result"
    }
   ],
   "source": [
    "article['paragraphs'][0]['qas'][0]"
   ]
  },
  {
   "cell_type": "code",
   "execution_count": 10,
   "metadata": {},
   "outputs": [
    {
     "data": {
      "image/png": "[encoded data removed]",
      "text/plain": [
       "<matplotlib.figure.Figure at 0x11b1c17b8>"
      ]
     },
     "metadata": {},
     "output_type": "display_data"
    }
   ],
   "source": [
    "sns.distplot(context_length);"
   ]
  },
  {
   "cell_type": "code",
   "execution_count": 11,
   "metadata": {},
   "outputs": [
    {
     "data": {
      "image/png": "[encoded data removed]",
      "text/plain": [
       "<matplotlib.figure.Figure at 0x11ae0e2b0>"
      ]
     },
     "metadata": {},
     "output_type": "display_data"
    }
   ],
   "source": [
    "sns.distplot(questions);"
   ]
  }
 ],
 "metadata": {
  "kernelspec": {
   "display_name": "Python 3",
   "language": "python",
   "name": "python3"
  },
  "language_info": {
   "codemirror_mode": {
    "name": "ipython",
    "version": 3
   },
   "file_extension": ".py",
   "mimetype": "text/x-python",
   "name": "python",
   "nbconvert_exporter": "python",
   "pygments_lexer": "ipython3",
   "version": "3.6.1"
  }
 },
 "nbformat": 4,
 "nbformat_minor": 2
}
