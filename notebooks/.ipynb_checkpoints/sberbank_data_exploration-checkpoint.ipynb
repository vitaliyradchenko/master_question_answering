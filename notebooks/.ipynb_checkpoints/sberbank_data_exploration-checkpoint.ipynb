{
 "cells": [
  {
   "cell_type": "markdown",
   "metadata": {},
   "source": [
    "## Loading data"
   ]
  },
  {
   "cell_type": "code",
   "execution_count": 1,
   "metadata": {
    "collapsed": true
   },
   "outputs": [],
   "source": [
    "import pandas as pd\n",
    "import numpy as np\n",
    "\n",
    "df = pd.read_csv('../data/sberbank/train_task_b.csv')"
   ]
  },
  {
   "cell_type": "code",
   "execution_count": 2,
   "metadata": {},
   "outputs": [
    {
     "data": {
      "text/html": [
       "<div>\n",
       "<style>\n",
       "    .dataframe thead tr:only-child th {\n",
       "        text-align: right;\n",
       "    }\n",
       "\n",
       "    .dataframe thead th {\n",
       "        text-align: left;\n",
       "    }\n",
       "\n",
       "    .dataframe tbody tr th {\n",
       "        vertical-align: top;\n",
       "    }\n",
       "</style>\n",
       "<table border=\"1\" class=\"dataframe\">\n",
       "  <thead>\n",
       "    <tr style=\"text-align: right;\">\n",
       "      <th></th>\n",
       "      <th>paragraph_id</th>\n",
       "      <th>question_id</th>\n",
       "      <th>paragraph</th>\n",
       "      <th>question</th>\n",
       "      <th>answer</th>\n",
       "    </tr>\n",
       "  </thead>\n",
       "  <tbody>\n",
       "    <tr>\n",
       "      <th>0</th>\n",
       "      <td>14754</td>\n",
       "      <td>60544</td>\n",
       "      <td>Первые упоминания о строении человеческого тел...</td>\n",
       "      <td>Где встречаются первые упоминания о строении ч...</td>\n",
       "      <td>в Древнем Египте</td>\n",
       "    </tr>\n",
       "    <tr>\n",
       "      <th>1</th>\n",
       "      <td>13859</td>\n",
       "      <td>1604</td>\n",
       "      <td>Телескоп имеет модульную структуру и содержит ...</td>\n",
       "      <td>Как называется корректирующая оптическая систе...</td>\n",
       "      <td>COSTAR</td>\n",
       "    </tr>\n",
       "    <tr>\n",
       "      <th>2</th>\n",
       "      <td>8310</td>\n",
       "      <td>30350</td>\n",
       "      <td>Критики теории Вегенера поставили во главу угл...</td>\n",
       "      <td>Какая теория была отвергнута после смерти Веге...</td>\n",
       "      <td>теория дрейфа материков</td>\n",
       "    </tr>\n",
       "    <tr>\n",
       "      <th>3</th>\n",
       "      <td>8766</td>\n",
       "      <td>53270</td>\n",
       "      <td>При нагревании кусочки янтаря становятся очень...</td>\n",
       "      <td>Чему не уступают по красоте изделия из прессов...</td>\n",
       "      <td>изделиям из монолитных камней</td>\n",
       "    </tr>\n",
       "    <tr>\n",
       "      <th>4</th>\n",
       "      <td>14719</td>\n",
       "      <td>75698</td>\n",
       "      <td>Нисходящие дифтонги со слабым гласным /i/ и /u...</td>\n",
       "      <td>На какие группы классифицируют дифтонги?</td>\n",
       "      <td>оральные и назальные</td>\n",
       "    </tr>\n",
       "  </tbody>\n",
       "</table>\n",
       "</div>"
      ],
      "text/plain": [
       "   paragraph_id  question_id  \\\n",
       "0         14754        60544   \n",
       "1         13859         1604   \n",
       "2          8310        30350   \n",
       "3          8766        53270   \n",
       "4         14719        75698   \n",
       "\n",
       "                                           paragraph  \\\n",
       "0  Первые упоминания о строении человеческого тел...   \n",
       "1  Телескоп имеет модульную структуру и содержит ...   \n",
       "2  Критики теории Вегенера поставили во главу угл...   \n",
       "3  При нагревании кусочки янтаря становятся очень...   \n",
       "4  Нисходящие дифтонги со слабым гласным /i/ и /u...   \n",
       "\n",
       "                                            question  \\\n",
       "0  Где встречаются первые упоминания о строении ч...   \n",
       "1  Как называется корректирующая оптическая систе...   \n",
       "2  Какая теория была отвергнута после смерти Веге...   \n",
       "3  Чему не уступают по красоте изделия из прессов...   \n",
       "4           На какие группы классифицируют дифтонги?   \n",
       "\n",
       "                          answer  \n",
       "0               в Древнем Египте  \n",
       "1                         COSTAR  \n",
       "2        теория дрейфа материков  \n",
       "3  изделиям из монолитных камней  \n",
       "4           оральные и назальные  "
      ]
     },
     "execution_count": 2,
     "metadata": {},
     "output_type": "execute_result"
    }
   ],
   "source": [
    "df.head()"
   ]
  },
  {
   "cell_type": "markdown",
   "metadata": {},
   "source": [
    "## Number of questions"
   ]
  },
  {
   "cell_type": "code",
   "execution_count": 5,
   "metadata": {},
   "outputs": [
    {
     "name": "stdout",
     "output_type": "stream",
     "text": [
      "Number of questions: 50364\n"
     ]
    }
   ],
   "source": [
    "print(\"Number of questions:\", len(df[\"question_id\"].unique()))"
   ]
  },
  {
   "cell_type": "markdown",
   "metadata": {},
   "source": [
    "## Number of paragraphs"
   ]
  },
  {
   "cell_type": "code",
   "execution_count": 6,
   "metadata": {},
   "outputs": [
    {
     "name": "stdout",
     "output_type": "stream",
     "text": [
      "Number of questions: 9080\n"
     ]
    }
   ],
   "source": [
    "print(\"Number of questions:\", len(df[\"paragraph_id\"].unique()))"
   ]
  },
  {
   "cell_type": "markdown",
   "metadata": {},
   "source": [
    "## Context length distribution and number of questions distribution"
   ]
  },
  {
   "cell_type": "code",
   "execution_count": 9,
   "metadata": {},
   "outputs": [
    {
     "name": "stdout",
     "output_type": "stream",
     "text": [
      "Context length distribution\n",
      "Percentile 0 : 279\n",
      "Percentile 20 : 559\n",
      "Percentile 40 : 635\n",
      "Percentile 60 : 740\n",
      "Percentile 80 : 913\n",
      "Percentile 100 : 7231\n",
      "===================================\n",
      "Questions length distribution\n",
      "Percentile 0 : 8\n",
      "Percentile 20 : 41\n",
      "Percentile 40 : 52\n",
      "Percentile 60 : 64\n",
      "Percentile 80 : 83\n",
      "Percentile 100 : 670\n"
     ]
    }
   ],
   "source": [
    "percentiles = [0, 20, 40, 60, 80, 100]\n",
    "print(\"Context length distribution\")\n",
    "for percentile in percentiles:\n",
    "    print(\"Percentile\", percentile, \":\", int(np.percentile(df[\"paragraph\"].apply(lambda x: len(x)), percentile)))\n",
    "    \n",
    "print(\"===================================\")\n",
    "    \n",
    "percentiles = [0, 20, 40, 60, 80, 100]\n",
    "print(\"Questions length distribution\")\n",
    "for percentile in percentiles:\n",
    "    print(\"Percentile\", percentile, \":\", int(np.percentile(df[\"question\"].apply(lambda x: len(x)), percentile)))"
   ]
  }
 ],
 "metadata": {
  "kernelspec": {
   "display_name": "Python 3",
   "language": "python",
   "name": "python3"
  },
  "language_info": {
   "codemirror_mode": {
    "name": "ipython",
    "version": 3
   },
   "file_extension": ".py",
   "mimetype": "text/x-python",
   "name": "python",
   "nbconvert_exporter": "python",
   "pygments_lexer": "ipython3",
   "version": "3.6.1"
  }
 },
 "nbformat": 4,
 "nbformat_minor": 2
}
